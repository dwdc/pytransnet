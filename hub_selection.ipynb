{
 "cells": [
  {
   "cell_type": "markdown",
   "metadata": {},
   "source": [
    "<h1>Hub Selection Model</h1>\n",
    "<br>\n",
    "This script serves as the skeleton of <b>strategic network optimization</b>. Expected to be extended / modified with ease for general purpose logistics / supply chain transportation planning.\n",
    "<br>\n",
    "<br>\n",
    "Consider set of nodes $n\\in N$. For node pair $[n,n'], n \\neq n'$ forming origin-destination pairs $od \\in OD$ in a network. For each $od \\in OD$, try to assign a routing path $\\alpha^p_{od}$ (A,B,C....h) among all possible routing for the od through hubs $h \\in H \\in N$ such that total transportation cost $\\sum_p v^p\\alpha^p_od + \\sum_h \\beta_h f_h$ is minimized, subject to hub capacity $\\sum_p s_p^{od} \\leq \\beta_h C_h \\forall h, od$"
   ]
  },
  {
   "cell_type": "code",
   "execution_count": 201,
   "metadata": {},
   "outputs": [],
   "source": [
    "from cvxpy import *\n",
    "from itertools import combinations\n",
    "from scipy.sparse import coo_matrix\n",
    "import numpy as np\n",
    "import time"
   ]
  },
  {
   "cell_type": "markdown",
   "metadata": {},
   "source": [
    "<h2>Demo Data Preparation</h2>\n",
    "<br>\n",
    "<b>OD pairs - dictionary</b><br>\n",
    "key:   tuple(from, to, time_allowed)<br>value: dictionary of od-pair characteristics. Weight used in demo as flow volume"
   ]
  },
  {
   "cell_type": "code",
   "execution_count": 5,
   "metadata": {},
   "outputs": [],
   "source": [
    "od = {\n",
    "    ('A','B',24): {'weight':300},\n",
    "    ('A','B',48): {'weight':600}\n",
    "}"
   ]
  },
  {
   "cell_type": "markdown",
   "metadata": {},
   "source": [
    "<b>Hubs - dictionary</b><br>\n",
    "key:   node name<br>\n",
    "value: FC:  fixed operating cost; VC:  variable cost / flow unit; Cap: facility capacity\n"
   ]
  },
  {
   "cell_type": "code",
   "execution_count": 125,
   "metadata": {},
   "outputs": [],
   "source": [
    "hubs = {\n",
    "    'C': {'fc':40000,'vc':1.5,'cap':2000},\n",
    "    'D': {'fc':20000,'vc':1.5,'cap':2000}\n",
    "}"
   ]
  },
  {
   "cell_type": "markdown",
   "metadata": {},
   "source": [
    "<b>Distance matrix - dictionary</b><br>\n",
    "key:   tuple of OD pair<br>\n",
    "value: distance"
   ]
  },
  {
   "cell_type": "code",
   "execution_count": 10,
   "metadata": {},
   "outputs": [],
   "source": [
    "dist_matrix = {\n",
    "    ('A','B'): 3000,\n",
    "    ('B','C'): 600,\n",
    "    ('A','C'): 550,\n",
    "    ('A','D'): 1500,\n",
    "    ('B','A'): 450,\n",
    "    ('B','D'): 900,\n",
    "    ('C','A'): 650,\n",
    "    ('C','B'): 1100,\n",
    "    ('C','D'): 540,\n",
    "    ('D','A'): 690,\n",
    "    ('D','B'): 800,\n",
    "    ('D','C'): 440\n",
    "}"
   ]
  },
  {
   "cell_type": "markdown",
   "metadata": {},
   "source": [
    "<h2>Config</h2>\n",
    "<ul>\n",
    "    <li>max_hubs:  maximum number of hubs allowed to be used for OD routing</li>\n",
    "    <li>vehicle_speed:  speed of vehicle used to deduct transportation time consumption</li>\n",
    "    <li>transit_vc:  generalized transportation variable cost over the network</li>\n",
    "    <li>facility_stay_time: additional travel time for each stop passed in OD</li>\n",
    "</ul>"
   ]
  },
  {
   "cell_type": "code",
   "execution_count": 24,
   "metadata": {},
   "outputs": [],
   "source": [
    "CONFIG = {\n",
    "    'max_hubs':2,\n",
    "    'vehicle_speed': 90,\n",
    "    'transit_vc': 0.00066,\n",
    "    'facility_stay_time': 1\n",
    "}\n"
   ]
  },
  {
   "cell_type": "markdown",
   "metadata": {},
   "source": [
    "<h3>Candidate routes combinations generation</h3>"
   ]
  },
  {
   "cell_type": "code",
   "execution_count": 185,
   "metadata": {},
   "outputs": [],
   "source": [
    "def gen_ods_list(od, hubs, dist_matrix):\n",
    "    ods = []\n",
    "    for od_pair in od:\n",
    "        for c in range(1,CONFIG['max_hubs']+1):\n",
    "            for hub in combinations(hubs, c):\n",
    "                p = [od_pair[0]] + list(hub) + [od_pair[1]]\n",
    "                tt = find_transit_time(p, dist_matrix)\n",
    "                if tt <= od_pair[2]:\n",
    "                    ods.append({\n",
    "                        'od': od_pair,\n",
    "                        'weight': od[od_pair]['weight'],\n",
    "                        'path': p,\n",
    "                        'transit_time': tt,\n",
    "                        'var_cost': find_var_cost(p, dist_matrix, hubs) * od[od_pair]['weight']\n",
    "                    })\n",
    "    return ods\n",
    "\n",
    "ods = gen_ods_list(od, hubs, dist_matrix)"
   ]
  },
  {
   "cell_type": "code",
   "execution_count": 1,
   "metadata": {},
   "outputs": [],
   "source": [
    "def find_transit_time(p, dist_matrix):\n",
    "    \"\"\"\n",
    "        find transit time of path p from lookup table (dist_matrix)\n",
    "        @params:\n",
    "            p - ordered iterable (e.g. list) representing path travesal sequence\n",
    "            dist_matrix - distance matrix lookup table\n",
    "        @return:\n",
    "            t - total transit + facility stay time\n",
    "    \"\"\"\n",
    "    t = 0\n",
    "    for i in range(len(p)-1):\n",
    "        t += dist_matrix[p[i],p[i+1]] / CONFIG['vehicle_speed']\n",
    "        if CONFIG['facility_stay_time'] is not None:\n",
    "            t += CONFIG['facility_stay_time']\n",
    "    return t\n",
    "    \n",
    "    \n",
    "def find_var_cost(p, dist_matrix, hubs):\n",
    "    \"\"\"\n",
    "        find variable cost of path p from distance matrix and hubs data\n",
    "        @params:\n",
    "            p - ordered iterable (e.g. list) representing path travesal sequence\n",
    "            dist_matrix - distance matrix lookup table\n",
    "            hubs - hubs dictionary storing all facility operating characteristics\n",
    "        @return:\n",
    "            c - total variable cost\n",
    "    \"\"\"\n",
    "    c = 0\n",
    "    for i in range(len(p)-1):\n",
    "        c += dist_matrix[p[i],p[i+1]] * CONFIG['transit_vc']\n",
    "        \n",
    "    for i in range(1,len(p)-1):\n",
    "        c += hubs[p[i]]['vc']\n",
    "    return c\n",
    "    "
   ]
  },
  {
   "cell_type": "code",
   "execution_count": 204,
   "metadata": {},
   "outputs": [],
   "source": [
    "def solve(hubs, od, dm):\n",
    "    \"\"\"\n",
    "        Solve hub selection and network routing problem with capacity and transit time constraint.\n",
    "        Model characteristics:\n",
    "            - Single transportation mode\n",
    "            - Complete fulfillment\n",
    "            - No split shipments\n",
    "        \n",
    "        This function will convert all dictionary into numpy matrices and construct a linear optimization model.\n",
    "        For large matrix input / parameters, coo_matrix from scipy.sparse will be deployed. \n",
    "    \n",
    "    \"\"\"\n",
    "    ods = gen_ods_list(od, hubs, dm)\n",
    "\n",
    "    hub_2_idx = {}\n",
    "    idx_2_hub = {}\n",
    "    hub_idx = 0\n",
    "\n",
    "    od_2_idx = {}\n",
    "    idx_2_od = {}\n",
    "    od_idx = 0\n",
    "\n",
    "    for hub in hubs:\n",
    "        hub_2_idx[hub] = hub_idx\n",
    "        idx_2_hub[hub_idx] = hub\n",
    "        hub_idx +=1\n",
    "\n",
    "    for i in od:\n",
    "        od_2_idx[i] = od_idx\n",
    "        idx_2_od[od_idx] = i\n",
    "        od_idx += 1\n",
    "\n",
    "    # shape:  1 x ods\n",
    "    vc = np.zeros(len(ods))\n",
    "\n",
    "    # shape:  1 x hubs\n",
    "    fc = np.zeros(len(hubs))\n",
    "\n",
    "    # shape:  hub * ods  (row)\n",
    "    cap_row = []\n",
    "    cap_col = []\n",
    "    cap_val = []\n",
    "\n",
    "    # shape: 1 * hub\n",
    "    cap_lim = np.zeros(len(hubs))\n",
    "\n",
    "    # shape:  od_pair * ods  (row)\n",
    "    demand_row = []\n",
    "    demand_col = []\n",
    "    demand_val = []\n",
    "\n",
    "    # shape:  1 * od\n",
    "    demand_lim = np.zeros(len(od))\n",
    "    \n",
    "    \n",
    "    for i in range(0,len(ods)):\n",
    "        vc[i] = ods[i]['var_cost']\n",
    "\n",
    "    for h in hubs:\n",
    "        fc[hub_2_idx[h]] = hubs[h]['fc']\n",
    "        cap_lim[hub_2_idx[h]] = hubs[h]['cap']\n",
    "\n",
    "    for i in range(len(ods)):\n",
    "        hhs = ods[i]['path'][1:-1]\n",
    "        for hub in hhs:\n",
    "            cap_row.append(i)\n",
    "            cap_col.append(hub_2_idx[hub])\n",
    "            cap_val.append(ods[i]['weight'])\n",
    "\n",
    "    for i in range(len(ods)):\n",
    "        demand_row.append(i)\n",
    "        demand_col.append(od_2_idx[ods[i]['od']])\n",
    "        demand_val.append(ods[i]['weight'])\n",
    "\n",
    "    for odp in od:\n",
    "        demand_lim[od_2_idx[odp]] = od[odp]['weight']\n",
    "    \n",
    "\n",
    "    \n",
    "    m_demand = coo_matrix((demand_val,(demand_row,demand_col)),shape=(len(ods),len(od)))    \n",
    "    m_cap = coo_matrix((cap_val,(cap_row,cap_col)),shape=(len(ods),len(hubs)))\n",
    "        \n",
    "    # dimension check\n",
    "    # print(len(ods))\n",
    "    # print(len(od))\n",
    "    # print(len(hubs))\n",
    "    \n",
    "    ########\n",
    "    #  Model construction and solving\n",
    "    ########\n",
    "    \n",
    "    var = Bool(len(ods))\n",
    "    var_hub = Bool(len(hubs))\n",
    "    obj = Minimize(vc.T * var + fc.T * var_hub)\n",
    "    prob = Problem(obj, constraints=[\n",
    "        m_demand.T * var == demand_lim,\n",
    "        m_cap.T * var - mul_elemwise(cap_lim,var_hub) <= 0,\n",
    "    ])\n",
    "    \n",
    "    return prob.solve(), var, var_hub"
   ]
  },
  {
   "cell_type": "markdown",
   "metadata": {},
   "source": [
    "Scaled expansion test and see computational efficiency"
   ]
  },
  {
   "cell_type": "code",
   "execution_count": 158,
   "metadata": {},
   "outputs": [],
   "source": [
    "import random\n",
    "def gen_od_hubs_dist(no_hubs=2, no_nodes=10, no_ods=100):\n",
    "    nodes = list(range(0,no_nodes))\n",
    "    \n",
    "    hubs = {}\n",
    "    for h in range(no_nodes, no_nodes+ no_hubs):\n",
    "        hubs[h] = {\n",
    "            'fc':random.randrange(100000,500000),\n",
    "            'vc':random.randrange(1,10),\n",
    "            'cap':random.randrange(5000,30000)\n",
    "        }\n",
    "        \n",
    "    od = {}\n",
    "    for i in range(no_ods):\n",
    "        orig = random.choice(nodes)\n",
    "        dest = random.choice(list(set(nodes) - set([orig])))\n",
    "        time_allowed = random.randrange(24,96)\n",
    "        od[orig,dest,time_allowed] = {'weight': random.randrange(500,2000)}\n",
    "        \n",
    "    all_nodes = list(nodes) + list(hubs.keys())\n",
    "    \n",
    "    dist_matrix = {}\n",
    "    \n",
    "    for u in all_nodes:\n",
    "        for v in all_nodes:\n",
    "            if u == v:\n",
    "                continue\n",
    "            dist_matrix[u,v] = random.randrange(100,4000)\n",
    "    \n",
    "    return od,hubs,dist_matrix"
   ]
  },
  {
   "cell_type": "code",
   "execution_count": null,
   "metadata": {},
   "outputs": [],
   "source": [
    "stats = []"
   ]
  },
  {
   "cell_type": "code",
   "execution_count": 205,
   "metadata": {},
   "outputs": [
    {
     "name": "stdout",
     "output_type": "stream",
     "text": [
      "2312\n",
      "100\n",
      "10\n",
      "2056\n",
      "99\n",
      "10\n",
      "2201\n",
      "100\n",
      "10\n",
      "2351\n",
      "100\n",
      "10\n",
      "1764\n",
      "100\n",
      "10\n",
      "2177\n",
      "100\n",
      "10\n",
      "2620\n",
      "100\n",
      "10\n",
      "2100\n",
      "97\n",
      "10\n",
      "32.1 s ± 3.16 s per loop (mean ± std. dev. of 7 runs, 1 loop each)\n"
     ]
    }
   ],
   "source": [
    "%%timeit\n",
    "od_a,hub_a,dm_a = gen_od_hubs_dist(no_hubs=10)   # 10 hubs, 10 nodes, 100 ods\n",
    "solve(od=od_a, hubs=hub_a, dm=dm_a)"
   ]
  }
 ],
 "metadata": {
  "kernelspec": {
   "display_name": "Python 3",
   "language": "python",
   "name": "python3"
  },
  "language_info": {
   "codemirror_mode": {
    "name": "ipython",
    "version": 3
   },
   "file_extension": ".py",
   "mimetype": "text/x-python",
   "name": "python",
   "nbconvert_exporter": "python",
   "pygments_lexer": "ipython3",
   "version": "3.6.3"
  }
 },
 "nbformat": 4,
 "nbformat_minor": 2
}
